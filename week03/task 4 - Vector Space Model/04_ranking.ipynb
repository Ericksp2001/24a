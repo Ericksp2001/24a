version https://git-lfs.github.com/spec/v1
oid sha256:06d0102370c6fd0c274cb9025f42d51c383366f53a986109891feb7fddd60fa1
size 7772
