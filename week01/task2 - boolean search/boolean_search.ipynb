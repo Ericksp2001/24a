{
 "cells": [
  {
   "cell_type": "markdown",
   "metadata": {},
   "source": [
    "## Obtencion de diccionarios\n",
    "Generar un diccionario booleano por cada archivo txt en formato json para evitar mantener todo en memoria"
   ]
  },
  {
   "cell_type": "code",
   "execution_count": 3,
   "metadata": {},
   "outputs": [],
   "source": [
    "import os\n",
    "import re\n",
    "import json\n",
    "import pandas as pd"
   ]
  },
  {
   "cell_type": "code",
   "execution_count": 10,
   "metadata": {},
   "outputs": [],
   "source": [
    "\n",
    "\n",
    "# Función para procesar un archivo de texto y generar el mapeo de palabras\n",
    "def generar_mapeo(archivo):\n",
    "    mapeo = {}\n",
    "    with open(archivo, 'r', encoding='utf-8') as file:\n",
    "        texto = file.read()\n",
    "        # Utilizar expresiones regulares para obtener palabras\n",
    "        palabras = re.findall(r'\\b\\w+\\b', texto.lower())\n",
    "        # Actualizar el mapeo con las palabras del archivo\n",
    "        for palabra in palabras:\n",
    "            mapeo[palabra] = True\n",
    "    return mapeo"
   ]
  },
  {
   "cell_type": "code",
   "execution_count": 11,
   "metadata": {},
   "outputs": [],
   "source": [
    "\n",
    "# Obtener la lista de archivos de texto en un directorio\n",
    "directorio_entrada = r'C:\\Users\\erick\\Escritorio\\RI\\24a\\data'\n",
    "directorio_salida = r'C:\\Users\\erick\\Escritorio\\RI\\24a\\json'\n"
   ]
  },
  {
   "cell_type": "code",
   "execution_count": 12,
   "metadata": {},
   "outputs": [],
   "source": [
    "\n",
    "# Crear el directorio de salida si no existe\n",
    "if not os.path.exists(directorio_salida):\n",
    "    os.makedirs(directorio_salida)\n",
    "\n",
    "# Procesar cada archivo de texto y generar el archivo JSON correspondiente\n",
    "archivos_txt = [f for f in os.listdir(directorio_entrada) if f.endswith('.txt')]\n",
    "for archivo_txt in archivos_txt:\n",
    "    mapeo_palabras = generar_mapeo(os.path.join(directorio_entrada, archivo_txt))\n",
    "    nombre_json = os.path.splitext(archivo_txt)[0] + '_mapeo.json'\n",
    "    ruta_json = os.path.join(directorio_salida, nombre_json)\n",
    "    with open(ruta_json, 'w', encoding='utf-8') as json_file:\n",
    "        json.dump(mapeo_palabras, json_file, ensure_ascii=False, indent=4)\n",
    "\n"
   ]
  },
  {
   "cell_type": "code",
   "execution_count": 15,
   "metadata": {},
   "outputs": [],
   "source": [
    "# Directorio donde se encuentran los archivos JSON generados\n",
    "directorio_json = r'C:\\Users\\erick\\Escritorio\\RI\\24a\\json'\n",
    "\n",
    "# Obtener la lista de archivos JSON\n",
    "archivos_json = [f for f in os.listdir(directorio_json) if f.endswith('_mapeo.json')]\n",
    "\n",
    "# Diccionario para almacenar las palabras y su información\n",
    "diccionario_unificado = {}\n",
    "\n",
    "# Leer cada archivo JSON y agregar sus datos al diccionario unificado\n",
    "for archivo_json in archivos_json:\n",
    "    ruta_json = os.path.join(directorio_json, archivo_json)\n",
    "    with open(ruta_json, 'r', encoding='utf-8') as json_file:\n",
    "        datos_json = json.load(json_file)\n",
    "        # Agregar las palabras y su información al diccionario unificado\n",
    "        for palabra, valor in datos_json.items():\n",
    "            if palabra not in diccionario_unificado:\n",
    "                diccionario_unificado[palabra] = {\n",
    "                    'en_archivos': [archivo_json],  # Lista de archivos donde se encuentra la palabra\n",
    "                    'aparece': valor  # Valor booleano de aparición\n",
    "                }\n",
    "            else:\n",
    "                diccionario_unificado[palabra]['en_archivos'].append(archivo_json)\n",
    "\n",
    "# Guardar el diccionario unificado en un archivo JSON\n",
    "with open('diccionario_unificado.json', 'w', encoding='utf-8') as json_file:\n",
    "    json.dump(diccionario_unificado, json_file, ensure_ascii=False, indent=4)"
   ]
  },
  {
   "cell_type": "code",
   "execution_count": 16,
   "metadata": {},
   "outputs": [
    {
     "name": "stdout",
     "output_type": "stream",
     "text": [
      "       nombre de archivo  pg100_mapeo.json  pg10676_mapeo.json  \\\n",
      "0                project              True                True   \n",
      "1              gutenberg              True                True   \n",
      "2                  ebook              True                True   \n",
      "3                     of              True                True   \n",
      "4               complete              True                True   \n",
      "...                  ...               ...                 ...   \n",
      "199515            debits             False               False   \n",
      "199516           quixana             False               False   \n",
      "199517              p74b             False               False   \n",
      "199518    tordesillesque             False               False   \n",
      "199519              p74e             False               False   \n",
      "\n",
      "        pg10681_mapeo.json  pg1080_mapeo.json  pg1184_mapeo.json  \\\n",
      "0                     True               True               True   \n",
      "1                     True               True               True   \n",
      "2                     True               True               True   \n",
      "3                     True               True               True   \n",
      "4                     True              False               True   \n",
      "...                    ...                ...                ...   \n",
      "199515               False              False              False   \n",
      "199516               False              False              False   \n",
      "199517               False              False              False   \n",
      "199518               False              False              False   \n",
      "199519               False              False              False   \n",
      "\n",
      "        pg11_mapeo.json  pg120_mapeo.json  pg1232_mapeo.json  \\\n",
      "0                  True              True               True   \n",
      "1                  True              True               True   \n",
      "2                  True              True               True   \n",
      "3                  True              True               True   \n",
      "4                 False              True               True   \n",
      "...                 ...               ...                ...   \n",
      "199515            False             False              False   \n",
      "199516            False             False              False   \n",
      "199517            False             False              False   \n",
      "199518            False             False              False   \n",
      "199519            False             False              False   \n",
      "\n",
      "        pg1259_mapeo.json  ...  pg73447_mapeo.json  pg7370_mapeo.json  \\\n",
      "0                    True  ...                True               True   \n",
      "1                    True  ...                True               True   \n",
      "2                    True  ...                True               True   \n",
      "3                    True  ...                True               True   \n",
      "4                    True  ...                True               True   \n",
      "...                   ...  ...                 ...                ...   \n",
      "199515              False  ...               False              False   \n",
      "199516              False  ...               False              False   \n",
      "199517              False  ...               False              False   \n",
      "199518              False  ...               False              False   \n",
      "199519              False  ...               False              False   \n",
      "\n",
      "        pg74_mapeo.json  pg768_mapeo.json  pg76_mapeo.json  pg844_mapeo.json  \\\n",
      "0                  True              True             True              True   \n",
      "1                  True              True             True              True   \n",
      "2                  True              True             True              True   \n",
      "3                  True              True             True              True   \n",
      "4                  True              True            False              True   \n",
      "...                 ...               ...              ...               ...   \n",
      "199515            False             False            False             False   \n",
      "199516            False             False            False             False   \n",
      "199517            False             False            False             False   \n",
      "199518            False             False            False             False   \n",
      "199519            False             False            False             False   \n",
      "\n",
      "        pg84_mapeo.json  pg8800_mapeo.json  pg98_mapeo.json  pg996_mapeo.json  \n",
      "0                  True               True             True              True  \n",
      "1                  True               True             True              True  \n",
      "2                  True               True             True              True  \n",
      "3                  True               True             True              True  \n",
      "4                  True               True             True              True  \n",
      "...                 ...                ...              ...               ...  \n",
      "199515            False              False            False              True  \n",
      "199516            False              False            False              True  \n",
      "199517            False              False            False              True  \n",
      "199518            False              False            False              True  \n",
      "199519            False              False            False              True  \n",
      "\n",
      "[199520 rows x 101 columns]\n"
     ]
    }
   ],
   "source": [
    "# Leer el archivo JSON con la información de palabras y archivos\n",
    "with open('diccionario_unificado.json', 'r', encoding='utf-8') as json_file:\n",
    "    diccionario_unificado = json.load(json_file)\n",
    "\n",
    "# Obtener la clave que representa los datos de palabras y archivos\n",
    "datos_clave = next(iter(diccionario_unificado.keys()))\n",
    "\n",
    "# Obtener los nombres de los archivos en orden\n",
    "nombres_archivos = diccionario_unificado[datos_clave][\"en_archivos\"]\n",
    "\n",
    "# Crear el DataFrame con la primera fila de nombres de archivos\n",
    "df = pd.DataFrame(columns=[\"nombre de archivo\"] + nombres_archivos)\n",
    "\n",
    "# Iterar sobre las palabras y agregar filas al DataFrame\n",
    "for palabra, info in diccionario_unificado.items():\n",
    "    if palabra != datos_clave:  # Ignorar la información inicial\n",
    "        fila = [palabra] + [archivo in info[\"en_archivos\"] for archivo in nombres_archivos]\n",
    "        df.loc[len(df)] = fila\n",
    "\n",
    "# Imprimir el DataFrame resultante\n",
    "print(df)\n"
   ]
  },
  {
   "cell_type": "code",
   "execution_count": 17,
   "metadata": {},
   "outputs": [
    {
     "name": "stdout",
     "output_type": "stream",
     "text": [
      "  nombre de archivo  pg100_mapeo.json  pg10676_mapeo.json  pg10681_mapeo.json  \\\n",
      "0           project              True                True                True   \n",
      "1         gutenberg              True                True                True   \n",
      "2             ebook              True                True                True   \n",
      "3                of              True                True                True   \n",
      "4          complete              True                True                True   \n",
      "5             works              True                True                True   \n",
      "6           william              True               False               False   \n",
      "7       shakespeare              True               False                True   \n",
      "8              this              True                True                True   \n",
      "9                is              True                True                True   \n",
      "\n",
      "   pg1080_mapeo.json  pg1184_mapeo.json  pg11_mapeo.json  pg120_mapeo.json  \\\n",
      "0               True               True             True              True   \n",
      "1               True               True             True              True   \n",
      "2               True               True             True              True   \n",
      "3               True               True             True              True   \n",
      "4              False               True            False              True   \n",
      "5               True               True             True              True   \n",
      "6              False              False             True             False   \n",
      "7              False               True             True             False   \n",
      "8               True               True             True              True   \n",
      "9               True               True             True              True   \n",
      "\n",
      "   pg1232_mapeo.json  pg1259_mapeo.json  ...  pg73447_mapeo.json  \\\n",
      "0               True               True  ...                True   \n",
      "1               True               True  ...                True   \n",
      "2               True               True  ...                True   \n",
      "3               True               True  ...                True   \n",
      "4               True               True  ...                True   \n",
      "5               True               True  ...                True   \n",
      "6              False               True  ...                True   \n",
      "7               True               True  ...               False   \n",
      "8               True               True  ...                True   \n",
      "9               True               True  ...                True   \n",
      "\n",
      "   pg7370_mapeo.json  pg74_mapeo.json  pg768_mapeo.json  pg76_mapeo.json  \\\n",
      "0               True             True              True             True   \n",
      "1               True             True              True             True   \n",
      "2               True             True              True             True   \n",
      "3               True             True              True             True   \n",
      "4               True             True              True            False   \n",
      "5               True             True              True             True   \n",
      "6               True            False             False             True   \n",
      "7              False            False             False             True   \n",
      "8               True             True              True             True   \n",
      "9               True             True              True             True   \n",
      "\n",
      "   pg844_mapeo.json  pg84_mapeo.json  pg8800_mapeo.json  pg98_mapeo.json  \\\n",
      "0              True             True               True             True   \n",
      "1              True             True               True             True   \n",
      "2              True             True               True             True   \n",
      "3              True             True               True             True   \n",
      "4              True             True               True             True   \n",
      "5              True             True               True             True   \n",
      "6             False             True               True            False   \n",
      "7             False             True              False            False   \n",
      "8              True             True               True             True   \n",
      "9              True             True               True             True   \n",
      "\n",
      "   pg996_mapeo.json  \n",
      "0              True  \n",
      "1              True  \n",
      "2              True  \n",
      "3              True  \n",
      "4              True  \n",
      "5              True  \n",
      "6             False  \n",
      "7              True  \n",
      "8              True  \n",
      "9              True  \n",
      "\n",
      "[10 rows x 101 columns]\n"
     ]
    }
   ],
   "source": [
    "print(df.head(10))"
   ]
  },
  {
   "cell_type": "code",
   "execution_count": 4,
   "metadata": {},
   "outputs": [
    {
     "ename": "NameError",
     "evalue": "name 'df' is not defined",
     "output_type": "error",
     "traceback": [
      "\u001b[1;31m---------------------------------------------------------------------------\u001b[0m",
      "\u001b[1;31mNameError\u001b[0m                                 Traceback (most recent call last)",
      "Cell \u001b[1;32mIn[4], line 1\u001b[0m\n\u001b[1;32m----> 1\u001b[0m \u001b[43mdf\u001b[49m\u001b[38;5;241m.\u001b[39mto_csv(\u001b[38;5;124m'\u001b[39m\u001b[38;5;124mmatriz.csv\u001b[39m\u001b[38;5;124m'\u001b[39m, index\u001b[38;5;241m=\u001b[39m\u001b[38;5;28;01mFalse\u001b[39;00m)  \u001b[38;5;66;03m# index=False evita guardar el índice del DataFrame como una columna adicional en el archivo CSV\u001b[39;00m\n",
      "\u001b[1;31mNameError\u001b[0m: name 'df' is not defined"
     ]
    }
   ],
   "source": [
    "df.to_csv('matriz.csv', index=False)  # index=False evita guardar el índice del DataFrame como una columna adicional en el archivo CSV"
   ]
  },
  {
   "cell_type": "code",
   "execution_count": 6,
   "metadata": {},
   "outputs": [],
   "source": [
    "# Cargar el DataFrame desde un archivo CSV\n",
    "df = pd.read_csv('matriz.csv')"
   ]
  },
  {
   "cell_type": "code",
   "execution_count": 7,
   "metadata": {},
   "outputs": [],
   "source": [
    "def buscar_palabra(palabra, dataframe):\n",
    "    # Obtener las filas que contienen la palabra buscada\n",
    "    filas_con_palabra = dataframe[dataframe.iloc[:, 0] == palabra]\n",
    "    # Filtrar las columnas que tienen valores verdaderos en al menos una fila\n",
    "    columnas_con_verdaderos = filas_con_palabra.loc[:, filas_con_palabra.any()].columns.tolist()\n",
    "    return columnas_con_verdaderos\n"
   ]
  },
  {
   "cell_type": "code",
   "execution_count": 8,
   "metadata": {},
   "outputs": [
    {
     "name": "stdout",
     "output_type": "stream",
     "text": [
      "['nombre de archivo', 'pg100_mapeo.json', 'pg10676_mapeo.json', 'pg10681_mapeo.json', 'pg1184_mapeo.json', 'pg11_mapeo.json', 'pg120_mapeo.json', 'pg1259_mapeo.json', 'pg1260_mapeo.json', 'pg1342_mapeo.json', 'pg1400_mapeo.json', 'pg145_mapeo.json', 'pg1513_mapeo.json', 'pg16389_mapeo.json', 'pg16594_mapeo.json', 'pg1661_mapeo.json', 'pg16_mapeo.json', 'pg1727_mapeo.json', 'pg174_mapeo.json', 'pg1952_mapeo.json', 'pg19694_mapeo.json', 'pg19926_mapeo.json', 'pg1998_mapeo.json', 'pg205_mapeo.json', 'pg2160_mapeo.json', 'pg21700_mapeo.json', 'pg21765_mapeo.json', 'pg219_mapeo.json', 'pg23_mapeo.json', 'pg24238_mapeo.json', 'pg244_mapeo.json', 'pg25344_mapeo.json', 'pg2542_mapeo.json', 'pg2554_mapeo.json', 'pg2581_mapeo.json', 'pg2591_mapeo.json', 'pg2600_mapeo.json', 'pg2641_mapeo.json', 'pg2701_mapeo.json', 'pg27827_mapeo.json', 'pg28054_mapeo.json', 'pg2814_mapeo.json', 'pg2852_mapeo.json', 'pg28556_mapeo.json', 'pg29870_mapeo.json', 'pg30254_mapeo.json', 'pg3207_mapeo.json', 'pg33283_mapeo.json', 'pg345_mapeo.json', 'pg35899_mapeo.json', 'pg37106_mapeo.json', 'pg38141_mapeo.json', 'pg3825_mapeo.json', 'pg39407_mapeo.json', 'pg394_mapeo.json', 'pg40438_mapeo.json', 'pg4085_mapeo.json', 'pg408_mapeo.json', 'pg41445_mapeo.json', 'pg42059_mapeo.json', 'pg4300_mapeo.json', 'pg4363_mapeo.json', 'pg43_mapeo.json', 'pg45_mapeo.json', 'pg46_mapeo.json', 'pg47475_mapeo.json', 'pg514_mapeo.json', 'pg5197_mapeo.json', 'pg5200_mapeo.json', 'pg52862_mapeo.json', 'pg55_mapeo.json', 'pg5740_mapeo.json', 'pg600_mapeo.json', 'pg6130_mapeo.json', 'pg62091_mapeo.json', 'pg62354_mapeo.json', 'pg64317_mapeo.json', 'pg6593_mapeo.json', 'pg67098_mapeo.json', 'pg6761_mapeo.json', 'pg67979_mapeo.json', 'pg73441_mapeo.json', 'pg73444_mapeo.json', 'pg7370_mapeo.json', 'pg74_mapeo.json', 'pg768_mapeo.json', 'pg76_mapeo.json', 'pg844_mapeo.json', 'pg84_mapeo.json', 'pg8800_mapeo.json', 'pg98_mapeo.json', 'pg996_mapeo.json']\n"
     ]
    }
   ],
   "source": [
    "palabra_buscada = input(\"Ingrese la palabra a buscar: \")\n",
    "resultados_busqueda = buscar_palabra(palabra_buscada, df)\n",
    "print(resultados_busqueda)"
   ]
  }
 ],
 "metadata": {
  "kernelspec": {
   "display_name": ".venv",
   "language": "python",
   "name": "python3"
  },
  "language_info": {
   "codemirror_mode": {
    "name": "ipython",
    "version": 3
   },
   "file_extension": ".py",
   "mimetype": "text/x-python",
   "name": "python",
   "nbconvert_exporter": "python",
   "pygments_lexer": "ipython3",
   "version": "3.8.10"
  }
 },
 "nbformat": 4,
 "nbformat_minor": 2
}
